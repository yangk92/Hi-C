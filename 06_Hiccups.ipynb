from google.colab import drive
drive.mount('/content/drive')

!wget https://s3.amazonaws.com/hicfiles.tc4ga.com/public/juicer/juicer_tools_1.22.01.jar

cp drive/MyDrive/sample.hic ./

!java -Xmx10g -jar juicer_tools_1.22.01.jar hiccups /content/drive/MyDrive/sample.hic sample_hiccups

